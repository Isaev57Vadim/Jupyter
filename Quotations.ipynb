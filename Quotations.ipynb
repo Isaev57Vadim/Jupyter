{
 "cells": [
  {
   "cell_type": "code",
   "execution_count": 3,
   "id": "89ddf08e",
   "metadata": {},
   "outputs": [
    {
     "data": {
      "text/plain": [
       "<Response [200]>"
      ]
     },
     "execution_count": 3,
     "metadata": {},
     "output_type": "execute_result"
    }
   ],
   "source": [
    "import requests\n",
    "import xmltodict\n",
    "\n",
    "url = \"http://www.cbr.ru/scripts/xml_metall.asp?date_req1=01/07/2001&date_req2=13/07/2001\"\n",
    "response = requests.get(url)\n",
    "response"
   ]
  },
  {
   "cell_type": "code",
   "execution_count": 4,
   "id": "a8a2aebe",
   "metadata": {
    "scrolled": true
   },
   "outputs": [
    {
     "data": {
      "text/plain": [
       "b'<?xml version=\"1.0\" encoding=\"windows-1251\"?><Metall FromDate=\"20010701\" ToDate=\"20010713\" name=\"Precious metals quotations\"><Record Date=\"02.07.2001\" Code=\"1\"><Buy>238,4</Buy><Sell>253,54</Sell></Record><Record Date=\"02.07.2001\" Code=\"2\"><Buy>3,7</Buy><Sell>4,08</Sell></Record><Record Date=\"02.07.2001\" Code=\"3\"><Buy>461,99</Buy><Sell>527,61</Sell></Record><Record Date=\"02.07.2001\" Code=\"4\"><Buy>510,16</Buy><Sell>563,41</Sell></Record><Record Date=\"03.07.2001\" Code=\"1\"><Buy>238,13</Buy><Sell>253,25</Sell></Record><Record Date=\"03.07.2001\" Code=\"2\"><Buy>3,68</Buy><Sell>4,06</Sell></Record><Record Date=\"03.07.2001\" Code=\"3\"><Buy>459,84</Buy><Sell>525,16</Sell></Record><Record Date=\"03.07.2001\" Code=\"4\"><Buy>507,96</Buy><Sell>560,99</Sell></Record><Record Date=\"04.07.2001\" Code=\"1\"><Buy>237,24</Buy><Sell>252,3</Sell></Record><Record Date=\"04.07.2001\" Code=\"2\"><Buy>3,66</Buy><Sell>4,04</Sell></Record><Record Date=\"04.07.2001\" Code=\"3\"><Buy>461,5</Buy><Sell>527,05</Sell></Record><Record Date=\"04.07.2001\" Code=\"4\"><Buy>501,13</Buy><Sell>553,45</Sell></Record><Record Date=\"05.07.2001\" Code=\"1\"><Buy>237,14</Buy><Sell>252,19</Sell></Record><Record Date=\"05.07.2001\" Code=\"2\"><Buy>3,64</Buy><Sell>4,02</Sell></Record><Record Date=\"05.07.2001\" Code=\"3\"><Buy>459,73</Buy><Sell>525,03</Sell></Record><Record Date=\"05.07.2001\" Code=\"4\"><Buy>496,74</Buy><Sell>548,59</Sell></Record><Record Date=\"06.07.2001\" Code=\"1\"><Buy>235,06</Buy><Sell>249,98</Sell></Record><Record Date=\"06.07.2001\" Code=\"2\"><Buy>3,64</Buy><Sell>4,02</Sell></Record><Record Date=\"06.07.2001\" Code=\"3\"><Buy>456,43</Buy><Sell>521,26</Sell></Record><Record Date=\"06.07.2001\" Code=\"4\"><Buy>495,03</Buy><Sell>546,71</Sell></Record><Record Date=\"09.07.2001\" Code=\"1\"><Buy>236,88</Buy><Sell>251,92</Sell></Record><Record Date=\"09.07.2001\" Code=\"2\"><Buy>3,61</Buy><Sell>3,99</Sell></Record><Record Date=\"09.07.2001\" Code=\"3\"><Buy>462,91</Buy><Sell>528,66</Sell></Record><Record Date=\"09.07.2001\" Code=\"4\"><Buy>488,95</Buy><Sell>539,99</Sell></Record><Record Date=\"10.07.2001\" Code=\"1\"><Buy>237,32</Buy><Sell>252,39</Sell></Record><Record Date=\"10.07.2001\" Code=\"2\"><Buy>3,65</Buy><Sell>4,03</Sell></Record><Record Date=\"10.07.2001\" Code=\"3\"><Buy>458,21</Buy><Sell>523,3</Sell></Record><Record Date=\"10.07.2001\" Code=\"4\"><Buy>478,96</Buy><Sell>528,97</Sell></Record><Record Date=\"11.07.2001\" Code=\"1\"><Buy>236,5</Buy><Sell>251,52</Sell></Record><Record Date=\"11.07.2001\" Code=\"2\"><Buy>3,64</Buy><Sell>4,02</Sell></Record><Record Date=\"11.07.2001\" Code=\"3\"><Buy>458,57</Buy><Sell>523,7</Sell></Record><Record Date=\"11.07.2001\" Code=\"4\"><Buy>481,03</Buy><Sell>531,25</Sell></Record><Record Date=\"12.07.2001\" Code=\"1\"><Buy>237,5</Buy><Sell>252,57</Sell></Record><Record Date=\"12.07.2001\" Code=\"2\"><Buy>3,64</Buy><Sell>4,02</Sell></Record><Record Date=\"12.07.2001\" Code=\"3\"><Buy>461,08</Buy><Sell>526,57</Sell></Record><Record Date=\"12.07.2001\" Code=\"4\"><Buy>481,07</Buy><Sell>531,29</Sell></Record><Record Date=\"13.07.2001\" Code=\"1\"><Buy>236,35</Buy><Sell>251,36</Sell></Record><Record Date=\"13.07.2001\" Code=\"2\"><Buy>3,64</Buy><Sell>4,02</Sell></Record><Record Date=\"13.07.2001\" Code=\"3\"><Buy>462,66</Buy><Sell>528,38</Sell></Record><Record Date=\"13.07.2001\" Code=\"4\"><Buy>482,7</Buy><Sell>533,09</Sell></Record></Metall>'"
      ]
     },
     "execution_count": 4,
     "metadata": {},
     "output_type": "execute_result"
    }
   ],
   "source": [
    "response.content"
   ]
  },
  {
   "cell_type": "code",
   "execution_count": 5,
   "id": "b2b8b6ea",
   "metadata": {},
   "outputs": [
    {
     "data": {
      "text/plain": [
       "{'Metall': {'@FromDate': '20010701',\n",
       "  '@ToDate': '20010713',\n",
       "  '@name': 'Precious metals quotations',\n",
       "  'Record': [{'@Date': '02.07.2001',\n",
       "    '@Code': '1',\n",
       "    'Buy': '238,4',\n",
       "    'Sell': '253,54'},\n",
       "   {'@Date': '02.07.2001', '@Code': '2', 'Buy': '3,7', 'Sell': '4,08'},\n",
       "   {'@Date': '02.07.2001', '@Code': '3', 'Buy': '461,99', 'Sell': '527,61'},\n",
       "   {'@Date': '02.07.2001', '@Code': '4', 'Buy': '510,16', 'Sell': '563,41'},\n",
       "   {'@Date': '03.07.2001', '@Code': '1', 'Buy': '238,13', 'Sell': '253,25'},\n",
       "   {'@Date': '03.07.2001', '@Code': '2', 'Buy': '3,68', 'Sell': '4,06'},\n",
       "   {'@Date': '03.07.2001', '@Code': '3', 'Buy': '459,84', 'Sell': '525,16'},\n",
       "   {'@Date': '03.07.2001', '@Code': '4', 'Buy': '507,96', 'Sell': '560,99'},\n",
       "   {'@Date': '04.07.2001', '@Code': '1', 'Buy': '237,24', 'Sell': '252,3'},\n",
       "   {'@Date': '04.07.2001', '@Code': '2', 'Buy': '3,66', 'Sell': '4,04'},\n",
       "   {'@Date': '04.07.2001', '@Code': '3', 'Buy': '461,5', 'Sell': '527,05'},\n",
       "   {'@Date': '04.07.2001', '@Code': '4', 'Buy': '501,13', 'Sell': '553,45'},\n",
       "   {'@Date': '05.07.2001', '@Code': '1', 'Buy': '237,14', 'Sell': '252,19'},\n",
       "   {'@Date': '05.07.2001', '@Code': '2', 'Buy': '3,64', 'Sell': '4,02'},\n",
       "   {'@Date': '05.07.2001', '@Code': '3', 'Buy': '459,73', 'Sell': '525,03'},\n",
       "   {'@Date': '05.07.2001', '@Code': '4', 'Buy': '496,74', 'Sell': '548,59'},\n",
       "   {'@Date': '06.07.2001', '@Code': '1', 'Buy': '235,06', 'Sell': '249,98'},\n",
       "   {'@Date': '06.07.2001', '@Code': '2', 'Buy': '3,64', 'Sell': '4,02'},\n",
       "   {'@Date': '06.07.2001', '@Code': '3', 'Buy': '456,43', 'Sell': '521,26'},\n",
       "   {'@Date': '06.07.2001', '@Code': '4', 'Buy': '495,03', 'Sell': '546,71'},\n",
       "   {'@Date': '09.07.2001', '@Code': '1', 'Buy': '236,88', 'Sell': '251,92'},\n",
       "   {'@Date': '09.07.2001', '@Code': '2', 'Buy': '3,61', 'Sell': '3,99'},\n",
       "   {'@Date': '09.07.2001', '@Code': '3', 'Buy': '462,91', 'Sell': '528,66'},\n",
       "   {'@Date': '09.07.2001', '@Code': '4', 'Buy': '488,95', 'Sell': '539,99'},\n",
       "   {'@Date': '10.07.2001', '@Code': '1', 'Buy': '237,32', 'Sell': '252,39'},\n",
       "   {'@Date': '10.07.2001', '@Code': '2', 'Buy': '3,65', 'Sell': '4,03'},\n",
       "   {'@Date': '10.07.2001', '@Code': '3', 'Buy': '458,21', 'Sell': '523,3'},\n",
       "   {'@Date': '10.07.2001', '@Code': '4', 'Buy': '478,96', 'Sell': '528,97'},\n",
       "   {'@Date': '11.07.2001', '@Code': '1', 'Buy': '236,5', 'Sell': '251,52'},\n",
       "   {'@Date': '11.07.2001', '@Code': '2', 'Buy': '3,64', 'Sell': '4,02'},\n",
       "   {'@Date': '11.07.2001', '@Code': '3', 'Buy': '458,57', 'Sell': '523,7'},\n",
       "   {'@Date': '11.07.2001', '@Code': '4', 'Buy': '481,03', 'Sell': '531,25'},\n",
       "   {'@Date': '12.07.2001', '@Code': '1', 'Buy': '237,5', 'Sell': '252,57'},\n",
       "   {'@Date': '12.07.2001', '@Code': '2', 'Buy': '3,64', 'Sell': '4,02'},\n",
       "   {'@Date': '12.07.2001', '@Code': '3', 'Buy': '461,08', 'Sell': '526,57'},\n",
       "   {'@Date': '12.07.2001', '@Code': '4', 'Buy': '481,07', 'Sell': '531,29'},\n",
       "   {'@Date': '13.07.2001', '@Code': '1', 'Buy': '236,35', 'Sell': '251,36'},\n",
       "   {'@Date': '13.07.2001', '@Code': '2', 'Buy': '3,64', 'Sell': '4,02'},\n",
       "   {'@Date': '13.07.2001', '@Code': '3', 'Buy': '462,66', 'Sell': '528,38'},\n",
       "   {'@Date': '13.07.2001', '@Code': '4', 'Buy': '482,7', 'Sell': '533,09'}]}}"
      ]
     },
     "execution_count": 5,
     "metadata": {},
     "output_type": "execute_result"
    }
   ],
   "source": [
    "data = xmltodict.parse(response.content)\n",
    "data"
   ]
  },
  {
   "cell_type": "code",
   "execution_count": 6,
   "id": "62cc5dcc",
   "metadata": {},
   "outputs": [
    {
     "data": {
      "text/plain": [
       "[{'@Date': '02.07.2001', '@Code': '1', 'Buy': '238,4', 'Sell': '253,54'},\n",
       " {'@Date': '02.07.2001', '@Code': '2', 'Buy': '3,7', 'Sell': '4,08'},\n",
       " {'@Date': '02.07.2001', '@Code': '3', 'Buy': '461,99', 'Sell': '527,61'},\n",
       " {'@Date': '02.07.2001', '@Code': '4', 'Buy': '510,16', 'Sell': '563,41'},\n",
       " {'@Date': '03.07.2001', '@Code': '1', 'Buy': '238,13', 'Sell': '253,25'},\n",
       " {'@Date': '03.07.2001', '@Code': '2', 'Buy': '3,68', 'Sell': '4,06'},\n",
       " {'@Date': '03.07.2001', '@Code': '3', 'Buy': '459,84', 'Sell': '525,16'},\n",
       " {'@Date': '03.07.2001', '@Code': '4', 'Buy': '507,96', 'Sell': '560,99'},\n",
       " {'@Date': '04.07.2001', '@Code': '1', 'Buy': '237,24', 'Sell': '252,3'},\n",
       " {'@Date': '04.07.2001', '@Code': '2', 'Buy': '3,66', 'Sell': '4,04'},\n",
       " {'@Date': '04.07.2001', '@Code': '3', 'Buy': '461,5', 'Sell': '527,05'},\n",
       " {'@Date': '04.07.2001', '@Code': '4', 'Buy': '501,13', 'Sell': '553,45'},\n",
       " {'@Date': '05.07.2001', '@Code': '1', 'Buy': '237,14', 'Sell': '252,19'},\n",
       " {'@Date': '05.07.2001', '@Code': '2', 'Buy': '3,64', 'Sell': '4,02'},\n",
       " {'@Date': '05.07.2001', '@Code': '3', 'Buy': '459,73', 'Sell': '525,03'},\n",
       " {'@Date': '05.07.2001', '@Code': '4', 'Buy': '496,74', 'Sell': '548,59'},\n",
       " {'@Date': '06.07.2001', '@Code': '1', 'Buy': '235,06', 'Sell': '249,98'},\n",
       " {'@Date': '06.07.2001', '@Code': '2', 'Buy': '3,64', 'Sell': '4,02'},\n",
       " {'@Date': '06.07.2001', '@Code': '3', 'Buy': '456,43', 'Sell': '521,26'},\n",
       " {'@Date': '06.07.2001', '@Code': '4', 'Buy': '495,03', 'Sell': '546,71'},\n",
       " {'@Date': '09.07.2001', '@Code': '1', 'Buy': '236,88', 'Sell': '251,92'},\n",
       " {'@Date': '09.07.2001', '@Code': '2', 'Buy': '3,61', 'Sell': '3,99'},\n",
       " {'@Date': '09.07.2001', '@Code': '3', 'Buy': '462,91', 'Sell': '528,66'},\n",
       " {'@Date': '09.07.2001', '@Code': '4', 'Buy': '488,95', 'Sell': '539,99'},\n",
       " {'@Date': '10.07.2001', '@Code': '1', 'Buy': '237,32', 'Sell': '252,39'},\n",
       " {'@Date': '10.07.2001', '@Code': '2', 'Buy': '3,65', 'Sell': '4,03'},\n",
       " {'@Date': '10.07.2001', '@Code': '3', 'Buy': '458,21', 'Sell': '523,3'},\n",
       " {'@Date': '10.07.2001', '@Code': '4', 'Buy': '478,96', 'Sell': '528,97'},\n",
       " {'@Date': '11.07.2001', '@Code': '1', 'Buy': '236,5', 'Sell': '251,52'},\n",
       " {'@Date': '11.07.2001', '@Code': '2', 'Buy': '3,64', 'Sell': '4,02'},\n",
       " {'@Date': '11.07.2001', '@Code': '3', 'Buy': '458,57', 'Sell': '523,7'},\n",
       " {'@Date': '11.07.2001', '@Code': '4', 'Buy': '481,03', 'Sell': '531,25'},\n",
       " {'@Date': '12.07.2001', '@Code': '1', 'Buy': '237,5', 'Sell': '252,57'},\n",
       " {'@Date': '12.07.2001', '@Code': '2', 'Buy': '3,64', 'Sell': '4,02'},\n",
       " {'@Date': '12.07.2001', '@Code': '3', 'Buy': '461,08', 'Sell': '526,57'},\n",
       " {'@Date': '12.07.2001', '@Code': '4', 'Buy': '481,07', 'Sell': '531,29'},\n",
       " {'@Date': '13.07.2001', '@Code': '1', 'Buy': '236,35', 'Sell': '251,36'},\n",
       " {'@Date': '13.07.2001', '@Code': '2', 'Buy': '3,64', 'Sell': '4,02'},\n",
       " {'@Date': '13.07.2001', '@Code': '3', 'Buy': '462,66', 'Sell': '528,38'},\n",
       " {'@Date': '13.07.2001', '@Code': '4', 'Buy': '482,7', 'Sell': '533,09'}]"
      ]
     },
     "execution_count": 6,
     "metadata": {},
     "output_type": "execute_result"
    }
   ],
   "source": [
    "items = []\n",
    "for item in data['Metall']['Record']:\n",
    "    items.append(item)\n",
    "items"
   ]
  },
  {
   "cell_type": "code",
   "execution_count": 10,
   "id": "76e9bee0",
   "metadata": {},
   "outputs": [
    {
     "name": "stdout",
     "output_type": "stream",
     "text": [
      "['02.07.2001', '1', '238,4', '253,54']\n",
      "['02.07.2001', '2', '3,7', '4,08']\n",
      "['02.07.2001', '3', '461,99', '527,61']\n",
      "['02.07.2001', '4', '510,16', '563,41']\n",
      "['03.07.2001', '1', '238,13', '253,25']\n",
      "['03.07.2001', '2', '3,68', '4,06']\n",
      "['03.07.2001', '3', '459,84', '525,16']\n",
      "['03.07.2001', '4', '507,96', '560,99']\n",
      "['04.07.2001', '1', '237,24', '252,3']\n",
      "['04.07.2001', '2', '3,66', '4,04']\n",
      "['04.07.2001', '3', '461,5', '527,05']\n",
      "['04.07.2001', '4', '501,13', '553,45']\n",
      "['05.07.2001', '1', '237,14', '252,19']\n",
      "['05.07.2001', '2', '3,64', '4,02']\n",
      "['05.07.2001', '3', '459,73', '525,03']\n",
      "['05.07.2001', '4', '496,74', '548,59']\n",
      "['06.07.2001', '1', '235,06', '249,98']\n",
      "['06.07.2001', '2', '3,64', '4,02']\n",
      "['06.07.2001', '3', '456,43', '521,26']\n",
      "['06.07.2001', '4', '495,03', '546,71']\n",
      "['09.07.2001', '1', '236,88', '251,92']\n",
      "['09.07.2001', '2', '3,61', '3,99']\n",
      "['09.07.2001', '3', '462,91', '528,66']\n",
      "['09.07.2001', '4', '488,95', '539,99']\n",
      "['10.07.2001', '1', '237,32', '252,39']\n",
      "['10.07.2001', '2', '3,65', '4,03']\n",
      "['10.07.2001', '3', '458,21', '523,3']\n",
      "['10.07.2001', '4', '478,96', '528,97']\n",
      "['11.07.2001', '1', '236,5', '251,52']\n",
      "['11.07.2001', '2', '3,64', '4,02']\n",
      "['11.07.2001', '3', '458,57', '523,7']\n",
      "['11.07.2001', '4', '481,03', '531,25']\n",
      "['12.07.2001', '1', '237,5', '252,57']\n",
      "['12.07.2001', '2', '3,64', '4,02']\n",
      "['12.07.2001', '3', '461,08', '526,57']\n",
      "['12.07.2001', '4', '481,07', '531,29']\n",
      "['13.07.2001', '1', '236,35', '251,36']\n",
      "['13.07.2001', '2', '3,64', '4,02']\n",
      "['13.07.2001', '3', '462,66', '528,38']\n",
      "['13.07.2001', '4', '482,7', '533,09']\n"
     ]
    }
   ],
   "source": [
    "my_array = []\n",
    "for item in data['Metall']['Record']:\n",
    "    my_set = [item['@Date'], item['@Code'], item['Buy'], item['Sell']];\n",
    "    my_array.append(my_set)\n",
    "    print(my_set)\n"
   ]
  },
  {
   "cell_type": "code",
   "execution_count": null,
   "id": "194524f5",
   "metadata": {},
   "outputs": [],
   "source": []
  }
 ],
 "metadata": {
  "kernelspec": {
   "display_name": "Python 3 (ipykernel)",
   "language": "python",
   "name": "python3"
  },
  "language_info": {
   "codemirror_mode": {
    "name": "ipython",
    "version": 3
   },
   "file_extension": ".py",
   "mimetype": "text/x-python",
   "name": "python",
   "nbconvert_exporter": "python",
   "pygments_lexer": "ipython3",
   "version": "3.9.12"
  }
 },
 "nbformat": 4,
 "nbformat_minor": 5
}
