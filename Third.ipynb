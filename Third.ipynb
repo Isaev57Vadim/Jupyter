{
  "nbformat": 4,
  "nbformat_minor": 0,
  "metadata": {
    "colab": {
      "provenance": [],
      "authorship_tag": "ABX9TyOH2uPTTupIpUbMU7ykfmbL",
      "include_colab_link": true
    },
    "kernelspec": {
      "name": "python3",
      "display_name": "Python 3"
    },
    "language_info": {
      "name": "python"
    }
  },
  "cells": [
    {
      "cell_type": "markdown",
      "metadata": {
        "id": "view-in-github",
        "colab_type": "text"
      },
      "source": [
        "<a href=\"https://colab.research.google.com/github/Isaev57Vadim/Jupyter/blob/develop/Third.ipynb\" target=\"_parent\"><img src=\"https://colab.research.google.com/assets/colab-badge.svg\" alt=\"Open In Colab\"/></a>"
      ]
    },
    {
      "cell_type": "markdown",
      "source": [],
      "metadata": {
        "id": "-d2JR1c8qH6P"
      }
    },
    {
      "cell_type": "markdown",
      "source": [
        "# Третий файл"
      ],
      "metadata": {
        "id": "s4CL_gwEr253"
      }
    },
    {
      "cell_type": "markdown",
      "source": [
        "# Первый опыт в Colab"
      ],
      "metadata": {
        "id": "DD7QuNhIq1Zu"
      }
    },
    {
      "cell_type": "code",
      "source": [
        "print(\"Здравствуйте, товарищи!\")"
      ],
      "metadata": {
        "colab": {
          "base_uri": "https://localhost:8080/"
        },
        "id": "v0FCEhFEqT8O",
        "outputId": "147eebac-9872-447a-b990-a18e5a995fea"
      },
      "execution_count": null,
      "outputs": [
        {
          "output_type": "stream",
          "name": "stdout",
          "text": [
            "Здравствуйте, товарищи!\n"
          ]
        }
      ]
    },
    {
      "cell_type": "markdown",
      "source": [
        "$\\sqrt{x^3-y^3}$"
      ],
      "metadata": {
        "id": "etk5djhrtsKu"
      }
    },
    {
      "cell_type": "code",
      "execution_count": null,
      "metadata": {
        "id": "gOQkMMNBoXpg"
      },
      "outputs": [],
      "source": []
    },
    {
      "cell_type": "code",
      "source": [],
      "metadata": {
        "id": "SlNhTpJnsVzW"
      },
      "execution_count": null,
      "outputs": []
    }
  ]
}